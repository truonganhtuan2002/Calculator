{
  "nbformat": 4,
  "nbformat_minor": 0,
  "metadata": {
    "colab": {
      "provenance": [],
      "authorship_tag": "ABX9TyN2vSvqkOqmktY2RhI84GKC",
      "include_colab_link": true
    },
    "kernelspec": {
      "name": "python3",
      "display_name": "Python 3"
    },
    "language_info": {
      "name": "python"
    }
  },
  "cells": [
    {
      "cell_type": "markdown",
      "metadata": {
        "id": "view-in-github",
        "colab_type": "text"
      },
      "source": [
        "<a href=\"https://colab.research.google.com/github/truonganhtuan2002/Calculator/blob/main/Ex_0503.ipynb\" target=\"_parent\"><img src=\"https://colab.research.google.com/assets/colab-badge.svg\" alt=\"Open In Colab\"/></a>"
      ]
    },
    {
      "cell_type": "code",
      "execution_count": null,
      "metadata": {
        "colab": {
          "base_uri": "https://localhost:8080/"
        },
        "id": "nT57szmiYGA3",
        "outputId": "ee848229-adf8-4f58-99f7-ec5b128911f0"
      },
      "outputs": [
        {
          "output_type": "stream",
          "name": "stdout",
          "text": [
            "20\n"
          ]
        }
      ],
      "source": [
        "import re\n",
        "\n",
        "x = re.compile(\"([0-9]+)\")\n",
        "\n",
        "m = x.search(\"còn 20 ngày nữa tôi phải lên trường | nhà tôi có 7 con mèo\")\n",
        "\n",
        "print(m.group(1))"
      ]
    },
    {
      "cell_type": "code",
      "source": [
        "import re\n",
        "\n",
        "x = re.compile(\"([0-9]+)[^0-9]+ ([0-9]+)\")\n",
        "\n",
        "m =x.search(\"còn 20 ngày nữa tôi phải lên trường | nhà tôi có 7 con mèo\")\n",
        "\n",
        "print(m.group(0))\n",
        "print(m.group(1))\n",
        "print(m.group(2))"
      ],
      "metadata": {
        "colab": {
          "base_uri": "https://localhost:8080/"
        },
        "id": "8UoQ4HH9YQEz",
        "outputId": "02855bc9-fbcd-4c63-e96c-61d93130f68a"
      },
      "execution_count": null,
      "outputs": [
        {
          "output_type": "stream",
          "name": "stdout",
          "text": [
            "20 ngày nữa tôi phải lên trường | nhà tôi có 7\n",
            "20\n",
            "7\n"
          ]
        }
      ]
    },
    {
      "cell_type": "code",
      "source": [
        "import re\n",
        "\n",
        "x = re.compile(\"([^0-9]+)([0-9]+)[^0-9]+([0-9]+)[^0-9]+([0-9]+)\")\n",
        "\n",
        "\n",
        "m = x.search(\"Số điện thoại: 234-4553-4557\")\n",
        "print(m.group(0))\n",
        "print(m.group(1))\n",
        "print(m.group(2))\n",
        "print(m.group(3))\n",
        "print(m.group(4))\n"
      ],
      "metadata": {
        "colab": {
          "base_uri": "https://localhost:8080/"
        },
        "id": "5cNtvlIrYRpK",
        "outputId": "179bc466-68ea-459c-a8ec-0f26dab67c7d"
      },
      "execution_count": null,
      "outputs": [
        {
          "output_type": "stream",
          "name": "stdout",
          "text": [
            "Số điện thoại: 234-4553-4557\n",
            "Số điện thoại: \n",
            "234\n",
            "4553\n",
            "4557\n"
          ]
        }
      ]
    },
    {
      "cell_type": "markdown",
      "source": [
        "Group\n",
        "\\d = [0-9]\n",
        "\\D = [^0-9]\n",
        "\\w = [0-9a-zA-Z_]\n",
        "\\W = [^0-9a-zA-Z_]\n"
      ],
      "metadata": {
        "id": "cbhQ9-63YYJZ"
      }
    },
    {
      "cell_type": "code",
      "source": [
        "import re\n",
        "\n",
        "x =re.compile(\"(\\d+)\")\n",
        "\n",
        "m = x.search(\"còn 20 ngày nữa tôi phải lên trường | nhà tôi có 7 con mèo\")\n",
        "print(m.group(1))"
      ],
      "metadata": {
        "colab": {
          "base_uri": "https://localhost:8080/"
        },
        "id": "fgEM2vpFYU4x",
        "outputId": "9a403770-ab75-4d6e-8580-c3992f25963a"
      },
      "execution_count": null,
      "outputs": [
        {
          "output_type": "stream",
          "name": "stdout",
          "text": [
            "20\n"
          ]
        }
      ]
    },
    {
      "cell_type": "code",
      "source": [
        "import re\n",
        "\n",
        "x =re.compile(\"(\\d+)\\D+(\\d+)\")\n",
        "\n",
        "m = x.search(\"còn 20 ngày nữa tôi phải lên trường | nhà tôi có 7 con mèo\")\n",
        "\n",
        "print(m.group(0))\n",
        "print(m.group(1))\n",
        "print(m.group(2))"
      ],
      "metadata": {
        "colab": {
          "base_uri": "https://localhost:8080/"
        },
        "id": "b_NGBeXPYeKC",
        "outputId": "2d327a4d-613e-4ada-a653-b17fbcdeca81"
      },
      "execution_count": null,
      "outputs": [
        {
          "output_type": "stream",
          "name": "stdout",
          "text": [
            "20 ngày nữa tôi phải lên trường | nhà tôi có 7\n",
            "20\n",
            "7\n"
          ]
        }
      ]
    },
    {
      "cell_type": "code",
      "source": [
        "import re\n",
        "\n",
        "x =re.compile(\"(\\D+)(\\d+)\\D+(\\d+)\\D+(\\d+)\")\n",
        "\n",
        "m = x.search(\" Số điện thoại của Lan: 4324-2343-223\")\n",
        "\n",
        "print(m.group(0))\n",
        "print(m.group(1).strip())\n",
        "print(m.group(2))\n",
        "print(m.group(3))\n",
        "print(m.group(4))"
      ],
      "metadata": {
        "colab": {
          "base_uri": "https://localhost:8080/"
        },
        "id": "3aknFvv6YeVp",
        "outputId": "db637c50-55b4-469c-b9b2-7aad5bb1bbd7"
      },
      "execution_count": null,
      "outputs": [
        {
          "output_type": "stream",
          "name": "stdout",
          "text": [
            " Số điện thoại của Lan: 4324-2343-223\n",
            "Số điện thoại của Lan:\n",
            "4324\n",
            "2343\n",
            "223\n"
          ]
        }
      ]
    },
    {
      "cell_type": "code",
      "source": [
        "#Ẩn số điện thoại\n",
        "import re\n",
        "\n",
        "x =re.compile(\"(\\D+)(\\d+)\\D+(\\d+)\\D+(\\d+)\")\n",
        "\n",
        "m = x.search(\" Số điện thoại của Lan: 4324-2343-223\")\n",
        "\n",
        "\n",
        "print(m.group(1) + \"****-****-\" + m.group(4))"
      ],
      "metadata": {
        "colab": {
          "base_uri": "https://localhost:8080/"
        },
        "id": "E3KbOEuUYi7q",
        "outputId": "25ce9a48-467c-4f0d-daca-b943e166f2a6"
      },
      "execution_count": null,
      "outputs": [
        {
          "output_type": "stream",
          "name": "stdout",
          "text": [
            " Số điện thoại của Lan: ****-****-223\n"
          ]
        }
      ]
    },
    {
      "cell_type": "code",
      "source": [
        "#Trích xuất số điện thoại\n",
        "\n",
        "x =re.compile(\"(\\D+)((\\d+)\\D+(\\d+)\\D+(\\d+))\")\n",
        "\n",
        "m = x.search(\" Số điện thoại của Lan: 4324-2343-223\")\n",
        "\n",
        "print(\"PHONE: \" + m.group(2))"
      ],
      "metadata": {
        "colab": {
          "base_uri": "https://localhost:8080/"
        },
        "id": "Lm0WH6mUYi-6",
        "outputId": "d6b28f49-2558-4883-e154-57b5989a93ce"
      },
      "execution_count": null,
      "outputs": [
        {
          "output_type": "stream",
          "name": "stdout",
          "text": [
            "PHONE: 4324-2343-223\n"
          ]
        }
      ]
    }
  ]
}